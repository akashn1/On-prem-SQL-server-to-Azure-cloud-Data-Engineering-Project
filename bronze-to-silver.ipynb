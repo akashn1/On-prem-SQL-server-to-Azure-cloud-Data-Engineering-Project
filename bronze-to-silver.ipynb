{
 "cells": [
  {
   "cell_type": "markdown",
   "metadata": {
    "application/vnd.databricks.v1+cell": {
     "cellMetadata": {},
     "inputWidgets": {},
     "nuid": "0101b525-4834-4d73-ab08-593febea7b43",
     "showTitle": false,
     "title": ""
    }
   },
   "source": [
    "##Details for Connection Through Service Principal"
   ]
  },
  {
   "cell_type": "code",
   "execution_count": 0,
   "metadata": {
    "application/vnd.databricks.v1+cell": {
     "cellMetadata": {
      "byteLimit": 2048000,
      "rowLimit": 10000
     },
     "inputWidgets": {},
     "nuid": "d74d0d1b-258f-4909-a1f1-541a1a4edc59",
     "showTitle": false,
     "title": ""
    }
   },
   "outputs": [],
   "source": [
    "# Retrieve secrets from Databricks secret scope\n",
    "client_ID = dbutils.secrets.get(scope=\"my-scope\", key=\"client-id\")\n",
    "client_secret = dbutils.secrets.get(scope=\"my-scope\", key=\"client-secret\")\n",
    "tenant_id = dbutils.secrets.get(scope=\"my-scope\", key=\"tenant-id\")\n",
    "# Configure Service Principal\n",
    "configs = {\n",
    "    \"fs.azure.account.auth.type\": \"OAuth\",\n",
    "    \"fs.azure.account.oauth.provider.type\": \"org.apache.hadoop.fs.azurebfs.oauth2.ClientCredsTokenProvider\",\n",
    "    \"fs.azure.account.oauth2.client.id\": client_ID,\n",
    "    \"fs.azure.account.oauth2.client.secret\": client_secret,\n",
    "    \"fs.azure.account.oauth2.client.endpoint\": f\"https://login.microsoftonline.com/{tenant_id}/oauth2/token\"\n",
    "}"
   ]
  },
  {
   "cell_type": "markdown",
   "metadata": {
    "application/vnd.databricks.v1+cell": {
     "cellMetadata": {},
     "inputWidgets": {},
     "nuid": "6e3b4627-23fd-4b5d-a429-122dd20337d3",
     "showTitle": false,
     "title": ""
    }
   },
   "source": [
    "##Mounting the bronze container"
   ]
  },
  {
   "cell_type": "code",
   "execution_count": 0,
   "metadata": {
    "application/vnd.databricks.v1+cell": {
     "cellMetadata": {
      "byteLimit": 2048000,
      "rowLimit": 10000
     },
     "inputWidgets": {},
     "nuid": "21bfccc5-44ed-494f-9587-6d7baa45a7e1",
     "showTitle": false,
     "title": ""
    }
   },
   "outputs": [
    {
     "output_type": "stream",
     "name": "stdout",
     "output_type": "stream",
     "text": [
      "Successfully mounted /mnt/bronze\n"
     ]
    }
   ],
   "source": [
    "\n",
    "dbutils.fs.mount(\n",
    "    source = \"abfss://bronze@destorageaccount11.dfs.core.windows.net/\",\n",
    "    mount_point = \"/mnt/bronze\",\n",
    "    extra_configs = configs\n",
    ")\n",
    "\n",
    "print(\"Successfully mounted /mnt/bronze\")"
   ]
  },
  {
   "cell_type": "markdown",
   "metadata": {
    "application/vnd.databricks.v1+cell": {
     "cellMetadata": {},
     "inputWidgets": {},
     "nuid": "2040436c-6dde-4def-8b73-fdd2816ce742",
     "showTitle": false,
     "title": ""
    }
   },
   "source": [
    "##Mounting the silver container"
   ]
  },
  {
   "cell_type": "code",
   "execution_count": 0,
   "metadata": {
    "application/vnd.databricks.v1+cell": {
     "cellMetadata": {
      "byteLimit": 2048000,
      "rowLimit": 10000
     },
     "inputWidgets": {},
     "nuid": "cd9be047-5d72-438a-994e-07205b30a4eb",
     "showTitle": false,
     "title": ""
    }
   },
   "outputs": [
    {
     "output_type": "stream",
     "name": "stdout",
     "output_type": "stream",
     "text": [
      "Successfully mounted /mnt/silver\n"
     ]
    }
   ],
   "source": [
    "\n",
    "try:\n",
    "    dbutils.fs.mount(\n",
    "        source = \"abfss://silver@destorageaccount11.dfs.core.windows.net/\",\n",
    "        mount_point = \"/mnt/silver\",\n",
    "        extra_configs = configs\n",
    "    )\n",
    "    print(\"Successfully mounted /mnt/silver\")\n",
    "except Exception as e:\n",
    "    print(f\"Error mounting /mnt/silver: {e}\")"
   ]
  },
  {
   "cell_type": "markdown",
   "metadata": {
    "application/vnd.databricks.v1+cell": {
     "cellMetadata": {},
     "inputWidgets": {},
     "nuid": "268d979c-de76-48e5-84a7-13e51e6e7441",
     "showTitle": false,
     "title": ""
    }
   },
   "source": [
    "##Mounting the gold container"
   ]
  },
  {
   "cell_type": "code",
   "execution_count": 0,
   "metadata": {
    "application/vnd.databricks.v1+cell": {
     "cellMetadata": {
      "byteLimit": 2048000,
      "rowLimit": 10000
     },
     "inputWidgets": {},
     "nuid": "6893a06f-732e-420b-a585-2eff93fa2264",
     "showTitle": false,
     "title": ""
    }
   },
   "outputs": [
    {
     "output_type": "stream",
     "name": "stdout",
     "output_type": "stream",
     "text": [
      "Successfully mounted /mnt/gold\nMounts successfully refreshed.\n"
     ]
    },
    {
     "output_type": "execute_result",
     "data": {
      "text/plain": [
       "True"
      ]
     },
     "execution_count": 16,
     "metadata": {},
     "output_type": "execute_result"
    }
   ],
   "source": [
    "\n",
    "dbutils.fs.mount(\n",
    "    source = \"abfss://silver@destorageaccount11.dfs.core.windows.net/\",\n",
    "    mount_point = \"/mnt/silver\",\n",
    "    extra_configs = configs\n",
    ")\n",
    "print(\"Successfully mounted /mnt/silver\")\n",
    "# Refresh mounts to propagate changes\n",
    "dbutils.fs.refreshMounts()"
   ]
  },
  {
   "cell_type": "markdown",
   "metadata": {
    "application/vnd.databricks.v1+cell": {
     "cellMetadata": {},
     "inputWidgets": {},
     "nuid": "c6c7c05b-70fa-4379-9251-defa11af816d",
     "showTitle": false,
     "title": ""
    }
   },
   "source": [
    "##Transforming the and saving it in silver container."
   ]
  },
  {
   "cell_type": "code",
   "execution_count": 0,
   "metadata": {
    "application/vnd.databricks.v1+cell": {
     "cellMetadata": {
      "byteLimit": 2048000,
      "rowLimit": 10000
     },
     "inputWidgets": {},
     "nuid": "c9807f88-c87f-40df-bcca-45ed3e437707",
     "showTitle": false,
     "title": ""
    }
   },
   "outputs": [
    {
     "output_type": "stream",
     "name": "stdout",
     "output_type": "stream",
     "text": [
      "Processed and saved: dbfs:/mnt/bronze/Address.parquet to dbfs:/mnt/silver/Address.parquet as Delta format\nProcessed and saved: dbfs:/mnt/bronze/Customer.parquet to dbfs:/mnt/silver/Customer.parquet as Delta format\nProcessed and saved: dbfs:/mnt/bronze/CustomerAddress.parquet to dbfs:/mnt/silver/CustomerAddress.parquet as Delta format\nProcessed and saved: dbfs:/mnt/bronze/Product.parquet to dbfs:/mnt/silver/Product.parquet as Delta format\nProcessed and saved: dbfs:/mnt/bronze/ProductCategory.parquet to dbfs:/mnt/silver/ProductCategory.parquet as Delta format\nProcessed and saved: dbfs:/mnt/bronze/ProductDescription.parquet to dbfs:/mnt/silver/ProductDescription.parquet as Delta format\nProcessed and saved: dbfs:/mnt/bronze/ProductModel.parquet to dbfs:/mnt/silver/ProductModel.parquet as Delta format\nProcessed and saved: dbfs:/mnt/bronze/ProductModelProductDescription.parquet to dbfs:/mnt/silver/ProductModelProductDescription.parquet as Delta format\nError processing dbfs:/mnt/bronze/SalesLT/: [PATH_NOT_FOUND] Path does not exist: dbfs:/mnt/bronze/SalesLT.\nProcessed and saved: dbfs:/mnt/bronze/SalesOrderDetail.parquet to dbfs:/mnt/silver/SalesOrderDetail.parquet as Delta format\nProcessed and saved: dbfs:/mnt/bronze/SalesOrderHeader.parquet to dbfs:/mnt/silver/SalesOrderHeader.parquet as Delta format\n"
     ]
    }
   ],
   "source": [
    "from pyspark.sql.functions import col, date_format\n",
    "\n",
    "# List all files in the bronze folder\n",
    "bronze_files = dbutils.fs.ls(\"/mnt/bronze/\")\n",
    "\n",
    "# Iterate over each file\n",
    "for file_info in bronze_files:\n",
    "    file_path = file_info.path\n",
    "    try:\n",
    "        # Read the file\n",
    "        df = spark.read.parquet(file_path)\n",
    "        \n",
    "        # Check if the DataFrame contains a column named 'date' or 'Date'\n",
    "        if 'date' in df.columns:\n",
    "            df = df.withColumn('date', date_format(col('date'), 'yyyy-MM-dd'))\n",
    "        elif 'Date' in df.columns:\n",
    "            df = df.withColumn('Date', date_format(col('Date'), 'yyyy-MM-dd'))\n",
    "        \n",
    "        # Save the processed file to the silver container as Delta format\n",
    "        silver_path = file_path.replace('/mnt/bronze/', '/mnt/silver/')\n",
    "        df.write.format(\"delta\").mode('overwrite').save(silver_path)\n",
    "        print(f\"Processed and saved: {file_path} to {silver_path} as Delta format\")\n",
    "    except Exception as e:\n",
    "        print(f\"Error processing {file_path}: {e}\")"
   ]
  },
  {
   "cell_type": "markdown",
   "metadata": {
    "application/vnd.databricks.v1+cell": {
     "cellMetadata": {},
     "inputWidgets": {},
     "nuid": "45e61744-ed59-412f-98b6-8b25e37febc1",
     "showTitle": false,
     "title": ""
    }
   },
   "source": [
    "##Listing the files in directory"
   ]
  },
  {
   "cell_type": "code",
   "execution_count": 0,
   "metadata": {
    "application/vnd.databricks.v1+cell": {
     "cellMetadata": {
      "byteLimit": 2048000,
      "rowLimit": 10000
     },
     "inputWidgets": {},
     "nuid": "1857b797-89e5-42df-ac10-c56334a411e9",
     "showTitle": false,
     "title": ""
    }
   },
   "outputs": [
    {
     "output_type": "stream",
     "name": "stdout",
     "output_type": "stream",
     "text": [
      "Files and directories in the silver container:\ndbfs:/mnt/silver/Address.parquet/\ndbfs:/mnt/silver/Customer.parquet/\ndbfs:/mnt/silver/CustomerAddress.parquet/\ndbfs:/mnt/silver/Product.parquet/\ndbfs:/mnt/silver/ProductCategory.parquet/\ndbfs:/mnt/silver/ProductDescription.parquet/\ndbfs:/mnt/silver/ProductModel.parquet/\ndbfs:/mnt/silver/ProductModelProductDescription.parquet/\ndbfs:/mnt/silver/SalesLT/\ndbfs:/mnt/silver/SalesOrderDetail.parquet/\ndbfs:/mnt/silver/SalesOrderHeader.parquet/\n"
     ]
    }
   ],
   "source": [
    "# List all files and directories in the silver container\n",
    "silver_files = dbutils.fs.ls(\"/mnt/silver/\")\n",
    "\n",
    "# Print the paths of all files and directories in the silver container\n",
    "print(\"Files and directories in the silver container:\")\n",
    "for file_info in silver_files:\n",
    "    print(file_info.path)"
   ]
  }
 ],
 "metadata": {
  "application/vnd.databricks.v1+notebook": {
   "dashboards": [],
   "environmentMetadata": null,
   "language": "python",
   "notebookMetadata": {
    "mostRecentlyExecutedCommandWithImplicitDF": {
     "commandId": 286610233272992,
     "dataframes": [
      "_sqldf"
     ]
    },
    "pythonIndentUnit": 4
   },
   "notebookName": "bronze-to-silver",
   "widgets": {}
  }
 },
 "nbformat": 4,
 "nbformat_minor": 0
}
